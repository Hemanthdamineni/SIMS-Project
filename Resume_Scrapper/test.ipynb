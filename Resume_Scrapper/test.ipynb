{
 "cells": [
  {
   "cell_type": "code",
   "execution_count": 1,
   "metadata": {},
   "outputs": [],
   "source": [
    "import read_resume\n",
    "import File_downloader_from_github as file_downloader\n",
    "import re\n",
    "import pandas as pd\n",
    "from collections import Counter\n"
   ]
  },
  {
   "cell_type": "code",
   "execution_count": 2,
   "metadata": {},
   "outputs": [],
   "source": [
    "\n",
    "def load_rankings(company_csv, university_csv, skills_csv):\n",
    "    \"\"\"\n",
    "    Loads company, university rankings, and skills from CSV files.\n",
    "    \"\"\"\n",
    "    company_df = pd.read_csv(company_csv)\n",
    "    university_df = pd.read_csv(university_csv)\n",
    "    skills_df = pd.read_csv(skills_csv)\n",
    "    \n",
    "    # Normalize column names and values\n",
    "    company_ranking = dict(zip(company_df['Name'].str.strip().str.lower(), company_df['Rank']))\n",
    "    university_ranking = dict(zip(university_df['University'].str.strip().str.lower(), university_df['ranking']))\n",
    "    skill_scores = dict(zip(skills_df['Skill'].str.strip().str.lower(), skills_df['Score']))\n",
    "    \n",
    "    return company_ranking, university_ranking, skill_scores\n"
   ]
  },
  {
   "cell_type": "code",
   "execution_count": 3,
   "metadata": {},
   "outputs": [],
   "source": [
    "\n",
    "def get_tier_score(entity, ranking_dict, tier_mapping):\n",
    "    \"\"\"\n",
    "    Assigns a score based on the entity's ranking.\n",
    "    \"\"\"\n",
    "    rank = ranking_dict.get(entity, None)\n",
    "    if rank is None:\n",
    "        return 0  # Entity not ranked\n",
    "    \n",
    "    for tier, score in tier_mapping.items():\n",
    "        if tier[0] <= rank <= tier[1]:\n",
    "            return score\n",
    "    return 0\n"
   ]
  },
  {
   "cell_type": "code",
   "execution_count": 4,
   "metadata": {},
   "outputs": [],
   "source": [
    "\n",
    "def calculate_resume_score(resume_text, company_csv, university_csv, skills_csv, company_tiers, university_tiers):\n",
    "    \"\"\"\n",
    "    Computes the weighted resume score based on extracted entities.\n",
    "    \"\"\"\n",
    "    # Load rankings from CSV files\n",
    "    company_ranking, university_ranking, skill_scores = load_rankings(company_csv, university_csv, skills_csv)\n",
    "    \n",
    "    # Tokenize resume text\n",
    "    words = re.findall(r'\\w+', resume_text.lower())\n",
    "    word_counts = Counter(words)\n",
    "    \n",
    "    # Extract and score companies\n",
    "    company_scores = [get_tier_score(company, company_ranking, company_tiers) for company in company_ranking if company in word_counts]\n",
    "    \n",
    "    # Extract and score universities\n",
    "    university_scores = [get_tier_score(university, university_ranking, university_tiers) for university in university_ranking if university in word_counts]\n",
    "    \n",
    "    # Extract and score skills\n",
    "    skill_scores_list = [skill_scores[skill] for skill in skill_scores if skill in word_counts]\n",
    "    \n",
    "    # Compute dynamic weights\n",
    "    total_mentions = len(company_scores) + len(university_scores) + len(skill_scores_list)\n",
    "    \n",
    "    if total_mentions == 0:\n",
    "        return 0  # No relevant data in resume\n",
    "    \n",
    "    company_weight = len(company_scores) / total_mentions\n",
    "    university_weight = len(university_scores) / total_mentions\n",
    "    skill_weight = len(skill_scores_list) / total_mentions\n",
    "    \n",
    "    # Compute final weighted score\n",
    "    final_score = (\n",
    "        sum(company_scores) * company_weight +\n",
    "        sum(university_scores) * university_weight +\n",
    "        sum(skill_scores_list) * skill_weight\n",
    "    )\n",
    "    \n",
    "    return round(final_score, 2)\n",
    "\n",
    "# Example tier mappings\n",
    "company_tiers = {\n",
    "    (1, 10): 100, (11, 50): 90, (51, 100): 80, (101, 1000): 70, \n",
    "    (1001, 5000): 60, (5001, 20000): 50, (20001, 50000): 40, (50001, 100000): 30, \n",
    "    (100001, 200000): 20, (200001, float('inf')): 10\n",
    "}\n",
    "\n",
    "university_tiers = {\n",
    "    (1, 10): 100, (11, 50): 90, (51, 100): 80, (101, 250): 70, \n",
    "    (251, 500): 60, (501, 1000): 50, (1001, 1500): 40, (1501, 2000): 30, \n",
    "    (2001, 3000): 20, (3001, float('inf')): 10\n",
    "}\n"
   ]
  },
  {
   "cell_type": "code",
   "execution_count": 5,
   "metadata": {},
   "outputs": [
    {
     "ename": "FileNotFoundError",
     "evalue": "[Errno 2] No such file or directory: 'Resume_Scrapper/Resumes/autoCV (3).pdf'",
     "output_type": "error",
     "traceback": [
      "\u001b[0;31m---------------------------------------------------------------------------\u001b[0m",
      "\u001b[0;31mFileNotFoundError\u001b[0m                         Traceback (most recent call last)",
      "Cell \u001b[0;32mIn[5], line 7\u001b[0m\n\u001b[1;32m      4\u001b[0m \u001b[38;5;66;03m# pdf_path = \"Resume_Scrapper/Resumes/autoCV (1).pdf\"\u001b[39;00m\n\u001b[1;32m      5\u001b[0m resume_name \u001b[38;5;241m=\u001b[39m resume_name[:\u001b[38;5;241m-\u001b[39m\u001b[38;5;241m4\u001b[39m]\n\u001b[0;32m----> 7\u001b[0m resume_text, extracted_links \u001b[38;5;241m=\u001b[39m \u001b[43mread_resume\u001b[49m\u001b[38;5;241;43m.\u001b[39;49m\u001b[43mextract_text_and_links_from_pdf\u001b[49m\u001b[43m(\u001b[49m\u001b[43mpdf_path\u001b[49m\u001b[43m)\u001b[49m\n\u001b[1;32m      9\u001b[0m \u001b[38;5;28;01mwith\u001b[39;00m \u001b[38;5;28mopen\u001b[39m(resume_name \u001b[38;5;241m+\u001b[39m \u001b[38;5;124m\"\u001b[39m\u001b[38;5;124m.txt\u001b[39m\u001b[38;5;124m\"\u001b[39m, \u001b[38;5;124m\"\u001b[39m\u001b[38;5;124mwb\u001b[39m\u001b[38;5;124m\"\u001b[39m) \u001b[38;5;28;01mas\u001b[39;00m f:\n\u001b[1;32m     10\u001b[0m     f\u001b[38;5;241m.\u001b[39mwrite(resume_text\u001b[38;5;241m.\u001b[39mencode(\u001b[38;5;124m'\u001b[39m\u001b[38;5;124mutf-8\u001b[39m\u001b[38;5;124m'\u001b[39m))\n",
      "File \u001b[0;32m/workspaces/SIMS-Project/Resume_Scrapper/read_resume.py:6\u001b[0m, in \u001b[0;36mextract_text_and_links_from_pdf\u001b[0;34m(pdf_path)\u001b[0m\n\u001b[1;32m      5\u001b[0m \u001b[38;5;28;01mdef\u001b[39;00m \u001b[38;5;21mextract_text_and_links_from_pdf\u001b[39m(pdf_path):\n\u001b[0;32m----> 6\u001b[0m     text \u001b[38;5;241m=\u001b[39m \u001b[43mpm\u001b[49m\u001b[38;5;241;43m.\u001b[39;49m\u001b[43mextract_text\u001b[49m\u001b[43m(\u001b[49m\u001b[43mpdf_path\u001b[49m\u001b[43m)\u001b[49m\n\u001b[1;32m      7\u001b[0m     links \u001b[38;5;241m=\u001b[39m []\n\u001b[1;32m      9\u001b[0m     github_link_pattern \u001b[38;5;241m=\u001b[39m \u001b[38;5;124mr\u001b[39m\u001b[38;5;124m\"\u001b[39m\u001b[38;5;124mhttps://github\u001b[39m\u001b[38;5;124m\\\u001b[39m\u001b[38;5;124m.com/[a-zA-Z0-9-_]+/[a-zA-Z0-9-_]+\u001b[39m\u001b[38;5;124m\"\u001b[39m\n",
      "File \u001b[0;32m/usr/local/python/3.12.1/lib/python3.12/site-packages/pdfminer/high_level.py:162\u001b[0m, in \u001b[0;36mextract_text\u001b[0;34m(pdf_file, password, page_numbers, maxpages, caching, codec, laparams)\u001b[0m\n\u001b[1;32m    159\u001b[0m \u001b[38;5;28;01mif\u001b[39;00m laparams \u001b[38;5;129;01mis\u001b[39;00m \u001b[38;5;28;01mNone\u001b[39;00m:\n\u001b[1;32m    160\u001b[0m     laparams \u001b[38;5;241m=\u001b[39m LAParams()\n\u001b[0;32m--> 162\u001b[0m \u001b[38;5;28;01mwith\u001b[39;00m \u001b[43mopen_filename\u001b[49m\u001b[43m(\u001b[49m\u001b[43mpdf_file\u001b[49m\u001b[43m,\u001b[49m\u001b[43m \u001b[49m\u001b[38;5;124;43m\"\u001b[39;49m\u001b[38;5;124;43mrb\u001b[39;49m\u001b[38;5;124;43m\"\u001b[39;49m\u001b[43m)\u001b[49m \u001b[38;5;28;01mas\u001b[39;00m fp, StringIO() \u001b[38;5;28;01mas\u001b[39;00m output_string:\n\u001b[1;32m    163\u001b[0m     fp \u001b[38;5;241m=\u001b[39m cast(BinaryIO, fp)  \u001b[38;5;66;03m# we opened in binary mode\u001b[39;00m\n\u001b[1;32m    164\u001b[0m     rsrcmgr \u001b[38;5;241m=\u001b[39m PDFResourceManager(caching\u001b[38;5;241m=\u001b[39mcaching)\n",
      "File \u001b[0;32m/usr/local/python/3.12.1/lib/python3.12/site-packages/pdfminer/utils.py:53\u001b[0m, in \u001b[0;36mopen_filename.__init__\u001b[0;34m(self, filename, *args, **kwargs)\u001b[0m\n\u001b[1;32m     51\u001b[0m     filename \u001b[38;5;241m=\u001b[39m \u001b[38;5;28mstr\u001b[39m(filename)\n\u001b[1;32m     52\u001b[0m \u001b[38;5;28;01mif\u001b[39;00m \u001b[38;5;28misinstance\u001b[39m(filename, \u001b[38;5;28mstr\u001b[39m):\n\u001b[0;32m---> 53\u001b[0m     \u001b[38;5;28mself\u001b[39m\u001b[38;5;241m.\u001b[39mfile_handler: AnyIO \u001b[38;5;241m=\u001b[39m \u001b[38;5;28;43mopen\u001b[39;49m\u001b[43m(\u001b[49m\u001b[43mfilename\u001b[49m\u001b[43m,\u001b[49m\u001b[43m \u001b[49m\u001b[38;5;241;43m*\u001b[39;49m\u001b[43margs\u001b[49m\u001b[43m,\u001b[49m\u001b[43m \u001b[49m\u001b[38;5;241;43m*\u001b[39;49m\u001b[38;5;241;43m*\u001b[39;49m\u001b[43mkwargs\u001b[49m\u001b[43m)\u001b[49m\n\u001b[1;32m     54\u001b[0m     \u001b[38;5;28mself\u001b[39m\u001b[38;5;241m.\u001b[39mclosing \u001b[38;5;241m=\u001b[39m \u001b[38;5;28;01mTrue\u001b[39;00m\n\u001b[1;32m     55\u001b[0m \u001b[38;5;28;01melif\u001b[39;00m \u001b[38;5;28misinstance\u001b[39m(filename, io\u001b[38;5;241m.\u001b[39mIOBase):\n",
      "\u001b[0;31mFileNotFoundError\u001b[0m: [Errno 2] No such file or directory: 'Resume_Scrapper/Resumes/autoCV (3).pdf'"
     ]
    }
   ],
   "source": [
    "\n",
    "if __name__ == \"__main__\":  \n",
    "    resume_name = 'autoCV (3).pdf'\n",
    "    pdf_path = \"Resume_Scrapper/Resumes/\" + resume_name\n",
    "    # pdf_path = \"Resume_Scrapper/Resumes/autoCV (1).pdf\"\n",
    "    resume_name = resume_name[:-4]\n",
    "\n",
    "    resume_text, extracted_links = read_resume.extract_text_and_links_from_pdf(pdf_path)\n",
    "    \n",
    "    with open(resume_name + \".txt\", \"wb\") as f:\n",
    "        f.write(resume_text.encode('utf-8'))\n",
    "    print(f\"Downloaded: {resume_name}\")\n",
    "    \n",
    "    for link in extracted_links:\n",
    "        if \"github\" in link:\n",
    "            file_downloader.Downloader(link)\n",
    "    \n",
    "    company_csv = \"Resume_Scrapper/Datasets/Companies_Dataset.csv\"\n",
    "    university_csv = \"Resume_Scrapper/Datasets/Universities_Dataset.csv\"\n",
    "    skills_csv = \"Resume_Scrapper/Datasets/Skills_Dataset.csv\"\n",
    "    \n",
    "    final_resume_score = calculate_resume_score(resume_text, company_csv, university_csv, skills_csv, company_tiers, university_tiers)\n",
    "    print(\"Final Resume Score:\", final_resume_score)\n"
   ]
  }
 ],
 "metadata": {
  "kernelspec": {
   "display_name": "Python 3",
   "language": "python",
   "name": "python3"
  },
  "language_info": {
   "codemirror_mode": {
    "name": "ipython",
    "version": 3
   },
   "file_extension": ".py",
   "mimetype": "text/x-python",
   "name": "python",
   "nbconvert_exporter": "python",
   "pygments_lexer": "ipython3",
   "version": "3.12.1"
  }
 },
 "nbformat": 4,
 "nbformat_minor": 2
}
