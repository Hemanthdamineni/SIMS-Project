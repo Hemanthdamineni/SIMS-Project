{
 "cells": [
  {
   "cell_type": "code",
   "execution_count": 48,
   "metadata": {},
   "outputs": [],
   "source": [
    "import read_resume\n",
    "import File_downloader_from_github as file_downloader\n",
    "import re\n",
    "import pandas as pd\n",
    "from collections import Counter"
   ]
  },
  {
   "cell_type": "code",
   "execution_count": null,
   "metadata": {},
   "outputs": [
    {
     "name": "stdout",
     "output_type": "stream",
     "text": [
      "                    Name\n",
      "0                 Apple \n",
      "1     NVIDIA Corporation\n",
      "2  Microsoft Corporation\n",
      "3                Amazon \n",
      "4                Google \n",
      "   ranking                             University        Country  Impact Rank  \\\n",
      "0        1                     Harvard University  United States            1   \n",
      "1        2                    Stanford University  United States            3   \n",
      "2        3  Massachusetts Institute of Technology  United States            1   \n",
      "3        4      University of California Berkeley  United States            4   \n",
      "4        5                   University of Oxford             UK           15   \n",
      "\n",
      "   Openness Rank  Excellence Rank  \n",
      "0              1                1  \n",
      "1              2                4  \n",
      "2              3               15  \n",
      "3              4               27  \n",
      "4              5                5  \n",
      "            Job_Role       Skill  Score  \\\n",
      "0  Software Engineer      Python    9.7   \n",
      "1  Software Engineer        Java    9.6   \n",
      "2  Software Engineer         C++    9.6   \n",
      "3  Software Engineer  JavaScript    9.5   \n",
      "4  Software Engineer  TypeScript    9.4   \n",
      "\n",
      "                                  Position  \n",
      "0  Intern, Junior, Mid-level, Senior, Lead  \n",
      "1  Intern, Junior, Mid-level, Senior, Lead  \n",
      "2  Intern, Junior, Mid-level, Senior, Lead  \n",
      "3  Intern, Junior, Mid-level, Senior, Lead  \n",
      "4          Junior, Mid-level, Senior, Lead  \n"
     ]
    }
   ],
   "source": [
    "company_csv_preview = pd.read_csv(\"Datasets/Companies_Dataset.csv\")\n",
    "university_csv_preview = pd.read_csv(\"Datasets/Universities_Dataset.csv\")\n",
    "skills_list_preview = pd.read_csv(\"Datasets/Skills_Dataset.csv\")"
   ]
  },
  {
   "cell_type": "code",
   "execution_count": null,
   "metadata": {},
   "outputs": [],
   "source": [
    "print(company_csv_preview.head())\n",
    "print(university_csv_preview.head())\n",
    "print(skills_list_preview.head())"
   ]
  },
  {
   "cell_type": "code",
   "execution_count": 15,
   "metadata": {},
   "outputs": [],
   "source": [
    "company_csv_preview.to_csv('Datasets/Companies_Dataset.csv')"
   ]
  },
  {
   "cell_type": "code",
   "execution_count": 22,
   "metadata": {},
   "outputs": [
    {
     "name": "stdout",
     "output_type": "stream",
     "text": [
      "   Unnamed: 0                   Name\n",
      "0           0                 Apple \n",
      "1           1     NVIDIA Corporation\n",
      "2           2  Microsoft Corporation\n",
      "3           3                Amazon \n",
      "4           4                Google \n"
     ]
    }
   ],
   "source": [
    "company_csv_preview = pd.read_csv('Datasets/Companies_Dataset.csv')\n",
    "print(company_csv_preview.head())"
   ]
  },
  {
   "cell_type": "code",
   "execution_count": 25,
   "metadata": {},
   "outputs": [
    {
     "name": "stdout",
     "output_type": "stream",
     "text": [
      "   Rank                   Name\n",
      "0     1                 Apple \n",
      "1     2     NVIDIA Corporation\n",
      "2     3  Microsoft Corporation\n",
      "3     4                Amazon \n",
      "4     5                Google \n"
     ]
    }
   ],
   "source": [
    "company_csv_preview = company_csv_preview.rename(columns = {\"Unnamed: 0\" : 'Rank'})\n",
    "company_csv_preview['Rank'] += 1\n",
    "print(company_csv_preview.head())"
   ]
  },
  {
   "cell_type": "code",
   "execution_count": 34,
   "metadata": {},
   "outputs": [],
   "source": [
    "company_csv_preview.to_csv('Datasets/Companies_Dataset.csv', index = False)"
   ]
  },
  {
   "cell_type": "markdown",
   "metadata": {},
   "source": [
    "University Dataset Preprocessing"
   ]
  },
  {
   "cell_type": "code",
   "execution_count": null,
   "metadata": {},
   "outputs": [
    {
     "name": "stdout",
     "output_type": "stream",
     "text": [
      "   ranking                             University\n",
      "0        1                     Harvard University\n",
      "1        2                    Stanford University\n",
      "2        3  Massachusetts Institute of Technology\n",
      "3        4      University of California Berkeley\n",
      "4        5                   University of Oxford\n"
     ]
    }
   ],
   "source": [
    "university_csv_preview.drop(columns = ['Unnamed: 0', 'Country','Impact Rank','Openness Rank','Excellence Rank'], inplace = True)\n",
    "print(university_csv_preview.head())"
   ]
  },
  {
   "cell_type": "code",
   "execution_count": 33,
   "metadata": {},
   "outputs": [],
   "source": [
    "university_csv_preview.to_csv('Datasets/Universities_Dataset.csv', index = False)"
   ]
  },
  {
   "cell_type": "code",
   "execution_count": 35,
   "metadata": {},
   "outputs": [
    {
     "name": "stdout",
     "output_type": "stream",
     "text": [
      "   Rank                   Name\n",
      "0     1                 Apple \n",
      "1     2     NVIDIA Corporation\n",
      "2     3  Microsoft Corporation\n",
      "3     4                Amazon \n",
      "4     5                Google \n",
      "   ranking                             University\n",
      "0        1                     Harvard University\n",
      "1        2                    Stanford University\n",
      "2        3  Massachusetts Institute of Technology\n",
      "3        4      University of California Berkeley\n",
      "4        5                   University of Oxford\n",
      "            Job_Role       Skill  Score  \\\n",
      "0  Software Engineer      Python    9.7   \n",
      "1  Software Engineer        Java    9.6   \n",
      "2  Software Engineer         C++    9.6   \n",
      "3  Software Engineer  JavaScript    9.5   \n",
      "4  Software Engineer  TypeScript    9.4   \n",
      "\n",
      "                                  Position  \n",
      "0  Intern, Junior, Mid-level, Senior, Lead  \n",
      "1  Intern, Junior, Mid-level, Senior, Lead  \n",
      "2  Intern, Junior, Mid-level, Senior, Lead  \n",
      "3  Intern, Junior, Mid-level, Senior, Lead  \n",
      "4          Junior, Mid-level, Senior, Lead  \n"
     ]
    }
   ],
   "source": [
    "print(company_csv_preview.head())\n",
    "print(university_csv_preview.head())\n",
    "print(skills_list_preview.head())"
   ]
  },
  {
   "cell_type": "code",
   "execution_count": 49,
   "metadata": {},
   "outputs": [
    {
     "name": "stdout",
     "output_type": "stream",
     "text": [
      "Downloaded: autoCV (2)\n"
     ]
    },
    {
     "ename": "FileNotFoundError",
     "evalue": "[Errno 2] No such file or directory: 'Resume_Scrapper/Downloaded/code_filesDisease_Prediction.ipynb'",
     "output_type": "error",
     "traceback": [
      "\u001b[0;31m---------------------------------------------------------------------------\u001b[0m",
      "\u001b[0;31mFileNotFoundError\u001b[0m                         Traceback (most recent call last)",
      "Cell \u001b[0;32mIn[49], line 101\u001b[0m\n\u001b[1;32m     99\u001b[0m \u001b[38;5;28;01mfor\u001b[39;00m link \u001b[38;5;129;01min\u001b[39;00m extracted_links:\n\u001b[1;32m    100\u001b[0m     \u001b[38;5;28;01mif\u001b[39;00m \u001b[38;5;124m\"\u001b[39m\u001b[38;5;124mgithub\u001b[39m\u001b[38;5;124m\"\u001b[39m \u001b[38;5;129;01min\u001b[39;00m link:\n\u001b[0;32m--> 101\u001b[0m         \u001b[43mfile_downloader\u001b[49m\u001b[38;5;241;43m.\u001b[39;49m\u001b[43mDownloader\u001b[49m\u001b[43m(\u001b[49m\u001b[43mlink\u001b[49m\u001b[43m)\u001b[49m\n\u001b[1;32m    103\u001b[0m company_csv \u001b[38;5;241m=\u001b[39m \u001b[38;5;124m\"\u001b[39m\u001b[38;5;124mCompanies_Dataset.csv\u001b[39m\u001b[38;5;124m\"\u001b[39m\n\u001b[1;32m    104\u001b[0m university_csv \u001b[38;5;241m=\u001b[39m \u001b[38;5;124m\"\u001b[39m\u001b[38;5;124mUniversities_Dataset.csv\u001b[39m\u001b[38;5;124m\"\u001b[39m\n",
      "File \u001b[0;32m/workspaces/SIMS-Project/Resume_Scrapper/File_downloader_from_github.py:21\u001b[0m, in \u001b[0;36mDownloader\u001b[0;34m(repo_link)\u001b[0m\n\u001b[1;32m     19\u001b[0m \u001b[38;5;28;01mif\u001b[39;00m req\u001b[38;5;241m.\u001b[39mget(link)\u001b[38;5;241m.\u001b[39mstatus_code \u001b[38;5;241m==\u001b[39m \u001b[38;5;241m200\u001b[39m:\n\u001b[1;32m     20\u001b[0m     filename \u001b[38;5;241m=\u001b[39m link\u001b[38;5;241m.\u001b[39msplit(\u001b[38;5;124m\"\u001b[39m\u001b[38;5;124m/\u001b[39m\u001b[38;5;124m\"\u001b[39m)[\u001b[38;5;241m-\u001b[39m\u001b[38;5;241m1\u001b[39m]\u001b[38;5;241m.\u001b[39mreplace(\u001b[38;5;124m\"\u001b[39m\u001b[38;5;124m%\u001b[39m\u001b[38;5;124m20\u001b[39m\u001b[38;5;124m\"\u001b[39m, \u001b[38;5;124m\"\u001b[39m\u001b[38;5;124m \u001b[39m\u001b[38;5;124m\"\u001b[39m)\n\u001b[0;32m---> 21\u001b[0m     \u001b[38;5;28;01mwith\u001b[39;00m \u001b[38;5;28;43mopen\u001b[39;49m\u001b[43m(\u001b[49m\u001b[38;5;124;43m\"\u001b[39;49m\u001b[38;5;124;43mResume_Scrapper/Downloaded/code_files\u001b[39;49m\u001b[38;5;124;43m\"\u001b[39;49m\u001b[38;5;241;43m+\u001b[39;49m\u001b[43mfilename\u001b[49m\u001b[43m,\u001b[49m\u001b[43m \u001b[49m\u001b[38;5;124;43m\"\u001b[39;49m\u001b[38;5;124;43mwb\u001b[39;49m\u001b[38;5;124;43m\"\u001b[39;49m\u001b[43m)\u001b[49m \u001b[38;5;28;01mas\u001b[39;00m f:\n\u001b[1;32m     22\u001b[0m         f\u001b[38;5;241m.\u001b[39mwrite(file_response\u001b[38;5;241m.\u001b[39mcontent)\n\u001b[1;32m     23\u001b[0m     \u001b[38;5;28mprint\u001b[39m(\u001b[38;5;124mf\u001b[39m\u001b[38;5;124m\"\u001b[39m\u001b[38;5;124mDownloaded: \u001b[39m\u001b[38;5;132;01m{\u001b[39;00mfilename\u001b[38;5;132;01m}\u001b[39;00m\u001b[38;5;124m\"\u001b[39m)\n",
      "\u001b[0;31mFileNotFoundError\u001b[0m: [Errno 2] No such file or directory: 'Resume_Scrapper/Downloaded/code_filesDisease_Prediction.ipynb'"
     ]
    }
   ],
   "source": [
    "import read_resume\n",
    "import File_downloader_from_github as file_downloader\n",
    "import re\n",
    "import pandas as pd\n",
    "from collections import Counter\n",
    "\n",
    "def load_rankings(company_csv, university_csv, skills_csv):\n",
    "    \"\"\"\n",
    "    Loads company, university rankings, and skills from CSV files.\n",
    "    \"\"\"\n",
    "    company_df = pd.read_csv(company_csv)\n",
    "    university_df = pd.read_csv(university_csv)\n",
    "    skills_df = pd.read_csv(skills_csv)\n",
    "    \n",
    "    # Normalize column names and values\n",
    "    company_ranking = dict(zip(company_df['Name'].str.strip().str.lower(), company_df['Rank']))\n",
    "    university_ranking = dict(zip(university_df['University'].str.strip().str.lower(), university_df['ranking']))\n",
    "    skill_scores = dict(zip(skills_df['Skill'].str.strip().str.lower(), skills_df['Score']))\n",
    "    \n",
    "    return company_ranking, university_ranking, skill_scores\n",
    "\n",
    "def get_tier_score(entity, ranking_dict, tier_mapping):\n",
    "    \"\"\"\n",
    "    Assigns a score based on the entity's ranking.\n",
    "    \"\"\"\n",
    "    rank = ranking_dict.get(entity, None)\n",
    "    if rank is None:\n",
    "        return 0  # Entity not ranked\n",
    "    \n",
    "    for tier, score in tier_mapping.items():\n",
    "        if tier[0] <= rank <= tier[1]:\n",
    "            return score\n",
    "    return 0\n",
    "\n",
    "def calculate_resume_score(resume_text, company_csv, university_csv, skills_csv, company_tiers, university_tiers):\n",
    "    \"\"\"\n",
    "    Computes the weighted resume score based on extracted entities.\n",
    "    \"\"\"\n",
    "    # Load rankings from CSV files\n",
    "    company_ranking, university_ranking, skill_scores = load_rankings(company_csv, university_csv, skills_csv)\n",
    "    \n",
    "    # Tokenize resume text\n",
    "    words = re.findall(r'\\w+', resume_text.lower())\n",
    "    word_counts = Counter(words)\n",
    "    \n",
    "    # Extract and score companies\n",
    "    company_scores = [get_tier_score(company, company_ranking, company_tiers) for company in company_ranking if company in word_counts]\n",
    "    \n",
    "    # Extract and score universities\n",
    "    university_scores = [get_tier_score(university, university_ranking, university_tiers) for university in university_ranking if university in word_counts]\n",
    "    \n",
    "    # Extract and score skills\n",
    "    skill_scores_list = [skill_scores[skill] for skill in skill_scores if skill in word_counts]\n",
    "    \n",
    "    # Compute dynamic weights\n",
    "    total_mentions = len(company_scores) + len(university_scores) + len(skill_scores_list)\n",
    "    \n",
    "    if total_mentions == 0:\n",
    "        return 0  # No relevant data in resume\n",
    "    \n",
    "    company_weight = len(company_scores) / total_mentions\n",
    "    university_weight = len(university_scores) / total_mentions\n",
    "    skill_weight = len(skill_scores_list) / total_mentions\n",
    "    \n",
    "    # Compute final weighted score\n",
    "    final_score = (\n",
    "        sum(company_scores) * company_weight +\n",
    "        sum(university_scores) * university_weight +\n",
    "        sum(skill_scores_list) * skill_weight\n",
    "    )\n",
    "    \n",
    "    return round(final_score, 2)\n",
    "\n",
    "# Example tier mappings\n",
    "company_tiers = {\n",
    "    (1, 10): 100, (11, 50): 90, (51, 100): 80, (101, 1000): 70, \n",
    "    (1001, 5000): 60, (5001, 20000): 50, (20001, 50000): 40, (50001, 100000): 30, \n",
    "    (100001, 200000): 20, (200001, float('inf')): 10\n",
    "}\n",
    "\n",
    "university_tiers = {\n",
    "    (1, 10): 100, (11, 50): 90, (51, 100): 80, (101, 250): 70, \n",
    "    (251, 500): 60, (501, 1000): 50, (1001, 1500): 40, (1501, 2000): 30, \n",
    "    (2001, 3000): 20, (3001, float('inf')): 10\n",
    "}\n",
    "\n",
    "if __name__ == \"__main__\":  \n",
    "    resume_name = 'autoCV (2).pdf'\n",
    "    pdf_path = \"Resumes/\" + resume_name\n",
    "    # pdf_path = \"Resume_Scrapper/Resumes/autoCV (1).pdf\"\n",
    "    resume_name = resume_name[:-4]\n",
    "\n",
    "    resume_text, extracted_links = read_resume.extract_text_and_links_from_pdf(pdf_path)\n",
    "    \n",
    "    with open(resume_name + \".txt\", \"wb\") as f:\n",
    "        f.write(resume_text.encode('utf-8'))\n",
    "    print(f\"Downloaded: {resume_name}\")\n",
    "    \n",
    "    for link in extracted_links:\n",
    "        if \"github\" in link:\n",
    "            file_downloader.Downloader(link)\n",
    "    \n",
    "    company_csv = \"Companies_Dataset.csv\"\n",
    "    university_csv = \"Universities_Dataset.csv\"\n",
    "    skills_csv = \"Skills_Dataset.csv\"\n",
    "    \n",
    "    final_resume_score = calculate_resume_score(resume_text, company_csv, university_csv, skills_csv, company_tiers, university_tiers)\n",
    "    print(\"Final Resume Score:\", final_resume_score)\n"
   ]
  },
  {
   "cell_type": "code",
   "execution_count": null,
   "metadata": {},
   "outputs": [],
   "source": [
    "def load_rankings(company_csv, university_csv):\n",
    "    \"\"\"\n",
    "    Loads company and university rankings from CSV files.\n",
    "    \"\"\"\n",
    "    company_df = pd.read_csv(company_csv)\n",
    "    university_df = pd.read_csv(university_csv)\n",
    "    \n",
    "    company_ranking = dict(zip(company_df['company'].str.lower(), company_df['rank']))\n",
    "    university_ranking = dict(zip(university_df['university'].str.lower(), university_df['rank']))\n",
    "    \n",
    "    return company_ranking, university_ranking"
   ]
  },
  {
   "cell_type": "code",
   "execution_count": null,
   "metadata": {},
   "outputs": [],
   "source": [
    "def get_tier_score(entity, ranking_dict, tier_mapping):\n",
    "    \"\"\"\n",
    "    Assigns a score based on the entity's ranking.\n",
    "    \"\"\"\n",
    "    rank = ranking_dict.get(entity, None)\n",
    "    if rank is None:\n",
    "        return 0  # Entity not ranked\n",
    "    \n",
    "    for tier, score in tier_mapping.items():\n",
    "        if tier[0] <= rank <= tier[1]:\n",
    "            return score\n",
    "    return 0"
   ]
  },
  {
   "cell_type": "code",
   "execution_count": null,
   "metadata": {},
   "outputs": [],
   "source": [
    "def calculate_resume_score(resume_text, company_csv, university_csv, skills_list, company_tiers, university_tiers):\n",
    "    \"\"\"\n",
    "    Computes the weighted resume score based on extracted entities.\n",
    "    \"\"\"\n",
    "    # Load rankings from CSV files\n",
    "    company_ranking, university_ranking = load_rankings(company_csv, university_csv)\n",
    "    \n",
    "    # Tokenize resume text\n",
    "    words = re.findall(r'\\w+', resume_text.lower())\n",
    "    word_counts = Counter(words)\n",
    "    \n",
    "    # Extract and score companies\n",
    "    company_scores = [get_tier_score(company, company_ranking, company_tiers) for company in company_ranking if company in word_counts]\n",
    "    \n",
    "    # Extract and score universities\n",
    "    university_scores = [get_tier_score(university, university_ranking, university_tiers) for university in university_ranking if university in word_counts]\n",
    "    \n",
    "    # Extract and score skills\n",
    "    skill_scores = [10 for skill in skills_list if skill in word_counts]  # Simple fixed score per skill\n",
    "    \n",
    "    # Compute dynamic weights\n",
    "    total_mentions = len(company_scores) + len(university_scores) + len(skill_scores)\n",
    "    \n",
    "    if total_mentions == 0:\n",
    "        return 0  # No relevant data in resume\n",
    "    \n",
    "    company_weight = len(company_scores) / total_mentions\n",
    "    university_weight = len(university_scores) / total_mentions\n",
    "    skill_weight = len(skill_scores) / total_mentions\n",
    "    \n",
    "    # Compute final weighted score\n",
    "    final_score = (\n",
    "        sum(company_scores) * company_weight +\n",
    "        sum(university_scores) * university_weight +\n",
    "        sum(skill_scores) * skill_weight\n",
    "    )\n",
    "    \n",
    "    return round(final_score, 2)\n",
    "\n",
    "# Example tier mappings\n",
    "company_tiers = {\n",
    "    (1, 10): 100, (11, 50): 90, (51, 100): 80, (101, 1000): 70, \n",
    "    (1001, 5000): 60, (5001, 20000): 50, (20001, 50000): 40, (50001, 100000): 30, \n",
    "    (100001, 200000): 20, (200001, float('inf')): 10\n",
    "}\n",
    "\n",
    "university_tiers = {\n",
    "    (1, 10): 100, (11, 50): 90, (51, 100): 80, (101, 250): 70, \n",
    "    (251, 500): 60, (501, 1000): 50, (1001, 1500): 40, (1501, 2000): 30, \n",
    "    (2001, 3000): 20, (3001, float('inf')): 10\n",
    "}"
   ]
  },
  {
   "cell_type": "code",
   "execution_count": null,
   "metadata": {},
   "outputs": [],
   "source": [
    "if __name__ == \"__main__\":  \n",
    "    resume_name = 'autoCV (1).pdf'\n",
    "    pdf_path = \"Resume_Scrapper/Resumes/\"+resume_name\n",
    "\n",
    "    resume_text, extracted_links = read_resume.extract_text_and_links_from_pdf(pdf_path)\n",
    "    \n",
    "    # print(f\"Extractd Text: {resume_text}\")\n",
    "\n",
    "    # print(\"Extracted Links:\")\n",
    "    # for link in extracted_links:\n",
    "    #     print(link)\n",
    "    # print(\"\\n\")\n",
    "\n",
    "    with open(\"Resume_Scrapper/Downloaded/code_files\"+resume_name, \"wb\") as f:\n",
    "        f.write(resume_text)\n",
    "    print(f\"Downloaded: {resume_name}\")\n",
    "    \n",
    "    for link in extracted_links:\n",
    "        if \"github\" in link:\n",
    "            file_downloader.Downloader(link)\n",
    "    \n",
    "    company_csv = \"Companies_Dataset.csv\"\n",
    "    university_csv = \"Universities_Dataset.csv\"\n",
    "    skills_list = [\"python\", \"machine learning\", \"data science\", \"java\"]\n",
    "\n",
    "    final_resume_score = calculate_resume_score(resume_text, company_csv, university_csv, skills_list, company_tiers, university_tiers)\n",
    "    print(\"Final Resume Score:\", final_resume_score)"
   ]
  }
 ],
 "metadata": {
  "kernelspec": {
   "display_name": "Python 3",
   "language": "python",
   "name": "python3"
  },
  "language_info": {
   "codemirror_mode": {
    "name": "ipython",
    "version": 3
   },
   "file_extension": ".py",
   "mimetype": "text/x-python",
   "name": "python",
   "nbconvert_exporter": "python",
   "pygments_lexer": "ipython3",
   "version": "3.12.1"
  }
 },
 "nbformat": 4,
 "nbformat_minor": 2
}
